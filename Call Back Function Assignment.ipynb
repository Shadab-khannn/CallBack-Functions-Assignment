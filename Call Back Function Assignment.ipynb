{
 "cells": [
  {
   "cell_type": "code",
   "execution_count": null,
   "id": "6c39cb98-e81b-4318-a77a-d69ec011a5da",
   "metadata": {},
   "outputs": [],
   "source": [
    "Q1. Install and load the latest versions of TensorFlow and Keras. Print their versions."
   ]
  },
  {
   "cell_type": "code",
   "execution_count": 1,
   "id": "163177c4-422a-471c-ae9e-1543611c1f0f",
   "metadata": {},
   "outputs": [
    {
     "name": "stdout",
     "output_type": "stream",
     "text": [
      "Collecting tensorflow\n",
      "  Downloading tensorflow-2.13.0-cp310-cp310-manylinux_2_17_x86_64.manylinux2014_x86_64.whl (524.1 MB)\n",
      "\u001b[2K     \u001b[90m━━━━━━━━━━━━━━━━━━━━━━━━━━━━━━━━━━━━━━━\u001b[0m \u001b[32m524.1/524.1 MB\u001b[0m \u001b[31m3.0 MB/s\u001b[0m eta \u001b[36m0:00:00\u001b[0m00:01\u001b[0m00:01\u001b[0m\n",
      "\u001b[?25hRequirement already satisfied: setuptools in /opt/conda/lib/python3.10/site-packages (from tensorflow) (65.5.1)\n",
      "Requirement already satisfied: six>=1.12.0 in /opt/conda/lib/python3.10/site-packages (from tensorflow) (1.16.0)\n",
      "Requirement already satisfied: typing-extensions<4.6.0,>=3.6.6 in /opt/conda/lib/python3.10/site-packages (from tensorflow) (4.4.0)\n",
      "Collecting tensorflow-io-gcs-filesystem>=0.23.1\n",
      "  Downloading tensorflow_io_gcs_filesystem-0.32.0-cp310-cp310-manylinux_2_12_x86_64.manylinux2010_x86_64.whl (2.4 MB)\n",
      "\u001b[2K     \u001b[90m━━━━━━━━━━━━━━━━━━━━━━━━━━━━━━━━━━━━━━━━\u001b[0m \u001b[32m2.4/2.4 MB\u001b[0m \u001b[31m76.5 MB/s\u001b[0m eta \u001b[36m0:00:00\u001b[0m\n",
      "\u001b[?25hRequirement already satisfied: h5py>=2.9.0 in /opt/conda/lib/python3.10/site-packages (from tensorflow) (3.7.0)\n",
      "Collecting libclang>=13.0.0\n",
      "  Downloading libclang-16.0.6-py2.py3-none-manylinux2010_x86_64.whl (22.9 MB)\n",
      "\u001b[2K     \u001b[90m━━━━━━━━━━━━━━━━━━━━━━━━━━━━━━━━━━━━━━━━\u001b[0m \u001b[32m22.9/22.9 MB\u001b[0m \u001b[31m52.1 MB/s\u001b[0m eta \u001b[36m0:00:00\u001b[0m00:01\u001b[0m00:01\u001b[0m\n",
      "\u001b[?25hCollecting termcolor>=1.1.0\n",
      "  Downloading termcolor-2.3.0-py3-none-any.whl (6.9 kB)\n",
      "Collecting tensorboard<2.14,>=2.13\n",
      "  Downloading tensorboard-2.13.0-py3-none-any.whl (5.6 MB)\n",
      "\u001b[2K     \u001b[90m━━━━━━━━━━━━━━━━━━━━━━━━━━━━━━━━━━━━━━━━\u001b[0m \u001b[32m5.6/5.6 MB\u001b[0m \u001b[31m72.3 MB/s\u001b[0m eta \u001b[36m0:00:00\u001b[0m:00:01\u001b[0m00:01\u001b[0m\n",
      "\u001b[?25hCollecting gast<=0.4.0,>=0.2.1\n",
      "  Downloading gast-0.4.0-py3-none-any.whl (9.8 kB)\n",
      "Collecting grpcio<2.0,>=1.24.3\n",
      "  Downloading grpcio-1.56.0-cp310-cp310-manylinux_2_17_x86_64.manylinux2014_x86_64.whl (5.2 MB)\n",
      "\u001b[2K     \u001b[90m━━━━━━━━━━━━━━━━━━━━━━━━━━━━━━━━━━━━━━━━\u001b[0m \u001b[32m5.2/5.2 MB\u001b[0m \u001b[31m84.2 MB/s\u001b[0m eta \u001b[36m0:00:00\u001b[0mta \u001b[36m0:00:01\u001b[0m\n",
      "\u001b[?25hCollecting flatbuffers>=23.1.21\n",
      "  Downloading flatbuffers-23.5.26-py2.py3-none-any.whl (26 kB)\n",
      "Requirement already satisfied: packaging in /opt/conda/lib/python3.10/site-packages (from tensorflow) (22.0)\n",
      "Collecting keras<2.14,>=2.13.1\n",
      "  Downloading keras-2.13.1-py3-none-any.whl (1.7 MB)\n",
      "\u001b[2K     \u001b[90m━━━━━━━━━━━━━━━━━━━━━━━━━━━━━━━━━━━━━━━━\u001b[0m \u001b[32m1.7/1.7 MB\u001b[0m \u001b[31m77.6 MB/s\u001b[0m eta \u001b[36m0:00:00\u001b[0m\n",
      "\u001b[?25hCollecting opt-einsum>=2.3.2\n",
      "  Downloading opt_einsum-3.3.0-py3-none-any.whl (65 kB)\n",
      "\u001b[2K     \u001b[90m━━━━━━━━━━━━━━━━━━━━━━━━━━━━━━━━━━━━━━━━\u001b[0m \u001b[32m65.5/65.5 kB\u001b[0m \u001b[31m12.6 MB/s\u001b[0m eta \u001b[36m0:00:00\u001b[0m\n",
      "\u001b[?25hRequirement already satisfied: protobuf!=4.21.0,!=4.21.1,!=4.21.2,!=4.21.3,!=4.21.4,!=4.21.5,<5.0.0dev,>=3.20.3 in /opt/conda/lib/python3.10/site-packages (from tensorflow) (4.21.11)\n",
      "Requirement already satisfied: numpy<=1.24.3,>=1.22 in /opt/conda/lib/python3.10/site-packages (from tensorflow) (1.23.5)\n",
      "Collecting google-pasta>=0.1.1\n",
      "  Downloading google_pasta-0.2.0-py3-none-any.whl (57 kB)\n",
      "\u001b[2K     \u001b[90m━━━━━━━━━━━━━━━━━━━━━━━━━━━━━━━━━━━━━━━━\u001b[0m \u001b[32m57.5/57.5 kB\u001b[0m \u001b[31m11.0 MB/s\u001b[0m eta \u001b[36m0:00:00\u001b[0m\n",
      "\u001b[?25hCollecting wrapt>=1.11.0\n",
      "  Downloading wrapt-1.15.0-cp310-cp310-manylinux_2_5_x86_64.manylinux1_x86_64.manylinux_2_17_x86_64.manylinux2014_x86_64.whl (78 kB)\n",
      "\u001b[2K     \u001b[90m━━━━━━━━━━━━━━━━━━━━━━━━━━━━━━━━━━━━━━━━\u001b[0m \u001b[32m78.4/78.4 kB\u001b[0m \u001b[31m14.7 MB/s\u001b[0m eta \u001b[36m0:00:00\u001b[0m\n",
      "\u001b[?25hCollecting tensorflow-estimator<2.14,>=2.13.0\n",
      "  Downloading tensorflow_estimator-2.13.0-py2.py3-none-any.whl (440 kB)\n",
      "\u001b[2K     \u001b[90m━━━━━━━━━━━━━━━━━━━━━━━━━━━━━━━━━━━━━━\u001b[0m \u001b[32m440.8/440.8 kB\u001b[0m \u001b[31m40.1 MB/s\u001b[0m eta \u001b[36m0:00:00\u001b[0m\n",
      "\u001b[?25hCollecting absl-py>=1.0.0\n",
      "  Downloading absl_py-1.4.0-py3-none-any.whl (126 kB)\n",
      "\u001b[2K     \u001b[90m━━━━━━━━━━━━━━━━━━━━━━━━━━━━━━━━━━━━━━\u001b[0m \u001b[32m126.5/126.5 kB\u001b[0m \u001b[31m23.1 MB/s\u001b[0m eta \u001b[36m0:00:00\u001b[0m\n",
      "\u001b[?25hCollecting astunparse>=1.6.0\n",
      "  Downloading astunparse-1.6.3-py2.py3-none-any.whl (12 kB)\n",
      "Requirement already satisfied: wheel<1.0,>=0.23.0 in /opt/conda/lib/python3.10/site-packages (from astunparse>=1.6.0->tensorflow) (0.38.4)\n",
      "Collecting markdown>=2.6.8\n",
      "  Downloading Markdown-3.4.3-py3-none-any.whl (93 kB)\n",
      "\u001b[2K     \u001b[90m━━━━━━━━━━━━━━━━━━━━━━━━━━━━━━━━━━━━━━━━\u001b[0m \u001b[32m93.9/93.9 kB\u001b[0m \u001b[31m16.4 MB/s\u001b[0m eta \u001b[36m0:00:00\u001b[0m\n",
      "\u001b[?25hCollecting tensorboard-data-server<0.8.0,>=0.7.0\n",
      "  Downloading tensorboard_data_server-0.7.1-py3-none-manylinux2014_x86_64.whl (6.6 MB)\n",
      "\u001b[2K     \u001b[90m━━━━━━━━━━━━━━━━━━━━━━━━━━━━━━━━━━━━━━━━\u001b[0m \u001b[32m6.6/6.6 MB\u001b[0m \u001b[31m86.8 MB/s\u001b[0m eta \u001b[36m0:00:00\u001b[0m:00:01\u001b[0m00:01\u001b[0m\n",
      "\u001b[?25hRequirement already satisfied: requests<3,>=2.21.0 in /opt/conda/lib/python3.10/site-packages (from tensorboard<2.14,>=2.13->tensorflow) (2.28.1)\n",
      "Collecting google-auth-oauthlib<1.1,>=0.5\n",
      "  Downloading google_auth_oauthlib-1.0.0-py2.py3-none-any.whl (18 kB)\n",
      "Collecting werkzeug>=1.0.1\n",
      "  Downloading Werkzeug-2.3.6-py3-none-any.whl (242 kB)\n",
      "\u001b[2K     \u001b[90m━━━━━━━━━━━━━━━━━━━━━━━━━━━━━━━━━━━━━━\u001b[0m \u001b[32m242.5/242.5 kB\u001b[0m \u001b[31m29.6 MB/s\u001b[0m eta \u001b[36m0:00:00\u001b[0m\n",
      "\u001b[?25hCollecting google-auth<3,>=1.6.3\n",
      "  Downloading google_auth-2.22.0-py2.py3-none-any.whl (181 kB)\n",
      "\u001b[2K     \u001b[90m━━━━━━━━━━━━━━━━━━━━━━━━━━━━━━━━━━━━━━\u001b[0m \u001b[32m181.8/181.8 kB\u001b[0m \u001b[31m27.0 MB/s\u001b[0m eta \u001b[36m0:00:00\u001b[0m\n",
      "\u001b[?25hCollecting pyasn1-modules>=0.2.1\n",
      "  Downloading pyasn1_modules-0.3.0-py2.py3-none-any.whl (181 kB)\n",
      "\u001b[2K     \u001b[90m━━━━━━━━━━━━━━━━━━━━━━━━━━━━━━━━━━━━━━\u001b[0m \u001b[32m181.3/181.3 kB\u001b[0m \u001b[31m31.3 MB/s\u001b[0m eta \u001b[36m0:00:00\u001b[0m\n",
      "\u001b[?25hCollecting cachetools<6.0,>=2.0.0\n",
      "  Downloading cachetools-5.3.1-py3-none-any.whl (9.3 kB)\n",
      "Requirement already satisfied: urllib3<2.0 in /opt/conda/lib/python3.10/site-packages (from google-auth<3,>=1.6.3->tensorboard<2.14,>=2.13->tensorflow) (1.26.13)\n",
      "Collecting rsa<5,>=3.1.4\n",
      "  Downloading rsa-4.9-py3-none-any.whl (34 kB)\n",
      "Collecting requests-oauthlib>=0.7.0\n",
      "  Downloading requests_oauthlib-1.3.1-py2.py3-none-any.whl (23 kB)\n",
      "Requirement already satisfied: certifi>=2017.4.17 in /opt/conda/lib/python3.10/site-packages (from requests<3,>=2.21.0->tensorboard<2.14,>=2.13->tensorflow) (2022.12.7)\n",
      "Requirement already satisfied: charset-normalizer<3,>=2 in /opt/conda/lib/python3.10/site-packages (from requests<3,>=2.21.0->tensorboard<2.14,>=2.13->tensorflow) (2.1.1)\n",
      "Requirement already satisfied: idna<4,>=2.5 in /opt/conda/lib/python3.10/site-packages (from requests<3,>=2.21.0->tensorboard<2.14,>=2.13->tensorflow) (3.4)\n",
      "Requirement already satisfied: MarkupSafe>=2.1.1 in /opt/conda/lib/python3.10/site-packages (from werkzeug>=1.0.1->tensorboard<2.14,>=2.13->tensorflow) (2.1.1)\n",
      "Collecting pyasn1<0.6.0,>=0.4.6\n",
      "  Downloading pyasn1-0.5.0-py2.py3-none-any.whl (83 kB)\n",
      "\u001b[2K     \u001b[90m━━━━━━━━━━━━━━━━━━━━━━━━━━━━━━━━━━━━━━━━\u001b[0m \u001b[32m83.9/83.9 kB\u001b[0m \u001b[31m16.7 MB/s\u001b[0m eta \u001b[36m0:00:00\u001b[0m\n",
      "\u001b[?25hRequirement already satisfied: oauthlib>=3.0.0 in /opt/conda/lib/python3.10/site-packages (from requests-oauthlib>=0.7.0->google-auth-oauthlib<1.1,>=0.5->tensorboard<2.14,>=2.13->tensorflow) (3.2.2)\n",
      "Installing collected packages: libclang, flatbuffers, wrapt, werkzeug, termcolor, tensorflow-io-gcs-filesystem, tensorflow-estimator, tensorboard-data-server, pyasn1, opt-einsum, markdown, keras, grpcio, google-pasta, gast, cachetools, astunparse, absl-py, rsa, requests-oauthlib, pyasn1-modules, google-auth, google-auth-oauthlib, tensorboard, tensorflow\n",
      "Successfully installed absl-py-1.4.0 astunparse-1.6.3 cachetools-5.3.1 flatbuffers-23.5.26 gast-0.4.0 google-auth-2.22.0 google-auth-oauthlib-1.0.0 google-pasta-0.2.0 grpcio-1.56.0 keras-2.13.1 libclang-16.0.6 markdown-3.4.3 opt-einsum-3.3.0 pyasn1-0.5.0 pyasn1-modules-0.3.0 requests-oauthlib-1.3.1 rsa-4.9 tensorboard-2.13.0 tensorboard-data-server-0.7.1 tensorflow-2.13.0 tensorflow-estimator-2.13.0 tensorflow-io-gcs-filesystem-0.32.0 termcolor-2.3.0 werkzeug-2.3.6 wrapt-1.15.0\n",
      "Requirement already satisfied: keras in /opt/conda/lib/python3.10/site-packages (2.13.1)\n"
     ]
    }
   ],
   "source": [
    "!pip install tensorflow\n",
    "!pip install keras"
   ]
  },
  {
   "cell_type": "code",
   "execution_count": 3,
   "id": "635eeb4b-fd52-4ca6-bc14-f050cfba57ad",
   "metadata": {},
   "outputs": [],
   "source": [
    "import tensorflow as tf\n",
    "import keras"
   ]
  },
  {
   "cell_type": "code",
   "execution_count": 4,
   "id": "412dc576-0afd-4fc8-be62-4ec6f22312e9",
   "metadata": {},
   "outputs": [
    {
     "name": "stdout",
     "output_type": "stream",
     "text": [
      "2.13.0\n",
      "2.13.1\n"
     ]
    }
   ],
   "source": [
    "print(tf.__version__)\n",
    "print(keras.__version__)"
   ]
  },
  {
   "cell_type": "code",
   "execution_count": null,
   "id": "db395979-b4c0-40f4-81b6-e24494d28462",
   "metadata": {},
   "outputs": [],
   "source": []
  },
  {
   "cell_type": "code",
   "execution_count": null,
   "id": "a891d72e-2f36-4d09-959e-3b97765e29b5",
   "metadata": {},
   "outputs": [],
   "source": [
    "Q2. Load the Wine Quality dataset and explore its dimensions."
   ]
  },
  {
   "cell_type": "code",
   "execution_count": 5,
   "id": "b901e0f1-b32a-42a8-ad52-84c0e30c3cac",
   "metadata": {},
   "outputs": [
    {
     "name": "stdout",
     "output_type": "stream",
     "text": [
      "(1599, 12)\n",
      "   fixed acidity  volatile acidity  citric acid  residual sugar  chlorides  \\\n",
      "0            7.4              0.70         0.00             1.9      0.076   \n",
      "1            7.8              0.88         0.00             2.6      0.098   \n",
      "2            7.8              0.76         0.04             2.3      0.092   \n",
      "3           11.2              0.28         0.56             1.9      0.075   \n",
      "4            7.4              0.70         0.00             1.9      0.076   \n",
      "\n",
      "   free sulfur dioxide  total sulfur dioxide  density    pH  sulphates  \\\n",
      "0                 11.0                  34.0   0.9978  3.51       0.56   \n",
      "1                 25.0                  67.0   0.9968  3.20       0.68   \n",
      "2                 15.0                  54.0   0.9970  3.26       0.65   \n",
      "3                 17.0                  60.0   0.9980  3.16       0.58   \n",
      "4                 11.0                  34.0   0.9978  3.51       0.56   \n",
      "\n",
      "   alcohol  quality  \n",
      "0      9.4        5  \n",
      "1      9.8        5  \n",
      "2      9.8        5  \n",
      "3      9.8        6  \n",
      "4      9.4        5  \n"
     ]
    }
   ],
   "source": [
    "import pandas as pd\n",
    "df = pd.read_csv('https://archive.ics.uci.edu/ml/machine-learning-databases/wine-quality/winequality-red.csv', sep=';')\n",
    "print(df.shape)\n",
    "print(df.head())"
   ]
  },
  {
   "cell_type": "code",
   "execution_count": null,
   "id": "b22173f5-6730-456e-a269-1fc3c0eab254",
   "metadata": {},
   "outputs": [],
   "source": []
  },
  {
   "cell_type": "code",
   "execution_count": null,
   "id": "e0188df2-33e6-48e5-bbdf-8a2c85aa8633",
   "metadata": {},
   "outputs": [],
   "source": [
    "Q3. Check for null values, identify categorical variables, and encode them."
   ]
  },
  {
   "cell_type": "code",
   "execution_count": 6,
   "id": "283ca1f1-1c00-45be-a64e-b7fa251fc5d8",
   "metadata": {},
   "outputs": [
    {
     "name": "stdout",
     "output_type": "stream",
     "text": [
      "fixed acidity           0\n",
      "volatile acidity        0\n",
      "citric acid             0\n",
      "residual sugar          0\n",
      "chlorides               0\n",
      "free sulfur dioxide     0\n",
      "total sulfur dioxide    0\n",
      "density                 0\n",
      "pH                      0\n",
      "sulphates               0\n",
      "alcohol                 0\n",
      "quality                 0\n",
      "dtype: int64\n"
     ]
    }
   ],
   "source": [
    "# Check for null values\n",
    "print(df.isnull().sum())"
   ]
  },
  {
   "cell_type": "code",
   "execution_count": 7,
   "id": "3c04527e-51d8-4f42-b604-7a3f96be7ddd",
   "metadata": {},
   "outputs": [
    {
     "name": "stdout",
     "output_type": "stream",
     "text": [
      "Index([], dtype='object')\n"
     ]
    }
   ],
   "source": [
    "# Identify categorical variables\n",
    "cat_cols = df.select_dtypes(include='object').columns\n",
    "print(cat_cols)"
   ]
  },
  {
   "cell_type": "code",
   "execution_count": 9,
   "id": "ab04b757-9237-42e1-94e9-385208e88558",
   "metadata": {},
   "outputs": [],
   "source": [
    "# Encode categorical variables\n",
    "from sklearn.preprocessing import LabelEncoder\n",
    "le = LabelEncoder()\n",
    "for col in cat_cols:\n",
    "    df[col] = le.fit_transform(df[col])"
   ]
  },
  {
   "cell_type": "code",
   "execution_count": null,
   "id": "e6bd2602-8dca-4cb4-ab04-df48d73eeebc",
   "metadata": {},
   "outputs": [],
   "source": []
  },
  {
   "cell_type": "code",
   "execution_count": null,
   "id": "a0d2a935-fbb7-4f96-9665-ffad0eaa1b21",
   "metadata": {},
   "outputs": [],
   "source": [
    "Q4. Separate the features and target variables from the dataframe."
   ]
  },
  {
   "cell_type": "code",
   "execution_count": 10,
   "id": "b397fdb8-a4d2-4bf3-83ea-b5d1c82f2d89",
   "metadata": {},
   "outputs": [],
   "source": [
    "X = df.drop('quality', axis=1)\n",
    "y = df['quality']"
   ]
  },
  {
   "cell_type": "code",
   "execution_count": null,
   "id": "4d9d8b47-1b43-451b-9872-2ed853aa8803",
   "metadata": {},
   "outputs": [],
   "source": []
  },
  {
   "cell_type": "code",
   "execution_count": null,
   "id": "af3a7913-00d0-446b-9fd6-d5a4e7aad28e",
   "metadata": {},
   "outputs": [],
   "source": [
    "Q5. Perform a train-test split and divide the data into training, validation, and test datasets."
   ]
  },
  {
   "cell_type": "code",
   "execution_count": 11,
   "id": "0196d9cd-6e3a-46ce-9580-c7120c9e17d1",
   "metadata": {},
   "outputs": [],
   "source": [
    "from sklearn.model_selection import train_test_split\n",
    "X_train, X_test, y_train, y_test = train_test_split(X, y, test_size=0.2, random_state=42)\n",
    "X_train, X_val, y_train, y_val = train_test_split(X_train, y_train, test_size=0.25, random_state=42)"
   ]
  },
  {
   "cell_type": "code",
   "execution_count": null,
   "id": "1a4f9811-88ac-4d9f-b072-b582e3c9d3d2",
   "metadata": {},
   "outputs": [],
   "source": []
  },
  {
   "cell_type": "code",
   "execution_count": null,
   "id": "8a2a9afb-dd83-412e-8c82-fa82682d38ea",
   "metadata": {},
   "outputs": [],
   "source": [
    "Q6. Perform scaling on the dataset."
   ]
  },
  {
   "cell_type": "code",
   "execution_count": 12,
   "id": "17a4729d-6eff-4c4d-9dcd-d648aff62b5b",
   "metadata": {},
   "outputs": [],
   "source": [
    "from sklearn.preprocessing import StandardScaler\n",
    "scaler = StandardScaler()\n",
    "X_train = scaler.fit_transform(X_train)\n",
    "X_val = scaler.transform(X_val)\n",
    "X_test = scaler.transform(X_test)"
   ]
  },
  {
   "cell_type": "code",
   "execution_count": null,
   "id": "e7b434b8-8128-4e72-b5a4-0d7b16a75bd2",
   "metadata": {},
   "outputs": [],
   "source": []
  },
  {
   "cell_type": "code",
   "execution_count": null,
   "id": "0bcfa4d1-3c75-4475-8f53-ff583eb21a33",
   "metadata": {},
   "outputs": [],
   "source": [
    "Q7. Create at least 2 hidden layers and an output layer for the binary categorical variables."
   ]
  },
  {
   "cell_type": "code",
   "execution_count": 13,
   "id": "41ba7d23-54c5-4954-8482-4882cdf9d20d",
   "metadata": {},
   "outputs": [],
   "source": [
    "from tensorflow.keras import layers\n",
    "hidden_layer_1 = layers.Dense(64, activation='relu', input_shape=(X.shape[1],))\n",
    "hidden_layer_2 = layers.Dense(32, activation='relu')\n",
    "output_layer = layers.Dense(1, activation='sigmoid')"
   ]
  },
  {
   "cell_type": "code",
   "execution_count": null,
   "id": "f065b5cf-a840-4458-839d-e428158f22f9",
   "metadata": {},
   "outputs": [],
   "source": []
  },
  {
   "cell_type": "code",
   "execution_count": null,
   "id": "de4f66d2-ef11-4eb7-8280-4117c4e5971b",
   "metadata": {},
   "outputs": [],
   "source": [
    "Q8. Create a Sequential model and add all the layers to it."
   ]
  },
  {
   "cell_type": "code",
   "execution_count": 14,
   "id": "0ac9b278-2b60-4a12-97b2-bf20a23737da",
   "metadata": {},
   "outputs": [],
   "source": [
    "from tensorflow.keras import Sequential\n",
    "model = Sequential([hidden_layer_1, hidden_layer_2, output_layer])"
   ]
  },
  {
   "cell_type": "code",
   "execution_count": null,
   "id": "3a82b898-cce4-4271-8855-61b90298b0c7",
   "metadata": {},
   "outputs": [],
   "source": []
  },
  {
   "cell_type": "code",
   "execution_count": null,
   "id": "581530e6-5a19-4d01-aac7-e4974a3628fc",
   "metadata": {},
   "outputs": [],
   "source": [
    "Q9. Implement a TensorBoard callback to visualize and monitor the model's training process."
   ]
  },
  {
   "cell_type": "code",
   "execution_count": 15,
   "id": "ed838add-8f80-49b4-906f-da3c9e5bef13",
   "metadata": {},
   "outputs": [],
   "source": [
    "from tensorflow.keras.callbacks import TensorBoard\n",
    "tensorboard_callback = TensorBoard(log_dir='logs', histogram_freq=1)"
   ]
  },
  {
   "cell_type": "code",
   "execution_count": null,
   "id": "e7025341-fc53-480f-baeb-b31dc3566275",
   "metadata": {},
   "outputs": [],
   "source": []
  },
  {
   "cell_type": "code",
   "execution_count": null,
   "id": "816df02a-4a40-4a22-a928-71c37d0d6893",
   "metadata": {},
   "outputs": [],
   "source": [
    "Q10. Use Early Stopping to prevent overfitting by monitoring a chosen metric and stopping the training if no improvement is observed."
   ]
  },
  {
   "cell_type": "code",
   "execution_count": 16,
   "id": "fb1c3e37-91ef-4567-9106-da3cb07e88da",
   "metadata": {},
   "outputs": [],
   "source": [
    "from tensorflow.keras.callbacks import EarlyStopping\n",
    "early_stopping_callback = EarlyStopping(monitor='val_loss', patience=3)"
   ]
  },
  {
   "cell_type": "code",
   "execution_count": null,
   "id": "c6c149b0-2312-4215-b436-327233880267",
   "metadata": {},
   "outputs": [],
   "source": []
  },
  {
   "cell_type": "code",
   "execution_count": null,
   "id": "662b75ba-f3a0-40c0-a42a-7825c7aac783",
   "metadata": {},
   "outputs": [],
   "source": [
    "Q11. Implement a ModelCheckpoint callback to save the best model based on a chosen metric during training."
   ]
  },
  {
   "cell_type": "code",
   "execution_count": 17,
   "id": "ee8e58b7-b8ff-449a-a348-06bd7c39ce5a",
   "metadata": {},
   "outputs": [],
   "source": [
    "from tensorflow.keras.callbacks import ModelCheckpoint\n",
    "model_checkpoint_callback = ModelCheckpoint(filepath='best_model.h5',\n",
    "                                            monitor='val_accuracy',\n",
    "                                            save_best_only=True)"
   ]
  },
  {
   "cell_type": "code",
   "execution_count": null,
   "id": "967a5d5f-ca55-4a73-a293-2fc05f065129",
   "metadata": {},
   "outputs": [],
   "source": []
  },
  {
   "cell_type": "code",
   "execution_count": null,
   "id": "b47ca6d9-b34b-4a22-83e2-2c0770cec157",
   "metadata": {},
   "outputs": [],
   "source": [
    "Q12. Print the model summary."
   ]
  },
  {
   "cell_type": "code",
   "execution_count": 18,
   "id": "737b54cb-888d-416e-8e35-0fd7c539b3f2",
   "metadata": {},
   "outputs": [
    {
     "name": "stdout",
     "output_type": "stream",
     "text": [
      "Model: \"sequential\"\n",
      "_________________________________________________________________\n",
      " Layer (type)                Output Shape              Param #   \n",
      "=================================================================\n",
      " dense (Dense)               (None, 64)                768       \n",
      "                                                                 \n",
      " dense_1 (Dense)             (None, 32)                2080      \n",
      "                                                                 \n",
      " dense_2 (Dense)             (None, 1)                 33        \n",
      "                                                                 \n",
      "=================================================================\n",
      "Total params: 2881 (11.25 KB)\n",
      "Trainable params: 2881 (11.25 KB)\n",
      "Non-trainable params: 0 (0.00 Byte)\n",
      "_________________________________________________________________\n"
     ]
    }
   ],
   "source": [
    "model.summary()"
   ]
  },
  {
   "cell_type": "code",
   "execution_count": null,
   "id": "535f8511-ade0-4863-91ed-75dab7810c4a",
   "metadata": {},
   "outputs": [],
   "source": []
  },
  {
   "cell_type": "code",
   "execution_count": null,
   "id": "bb0a4a4f-0dd5-4fd1-bfd3-03652b82c3e3",
   "metadata": {},
   "outputs": [],
   "source": [
    "Q13. Use binary cross-entropy as the loss function, Adam optimizer, and include the metric ['accuracy']."
   ]
  },
  {
   "cell_type": "code",
   "execution_count": 19,
   "id": "289e76fc-8728-4493-ba1e-be3cbba0effb",
   "metadata": {},
   "outputs": [],
   "source": [
    "loss_function = 'binary_crossentropy'\n",
    "optimizer = 'adam'\n",
    "metrics = ['accuracy']"
   ]
  },
  {
   "cell_type": "code",
   "execution_count": null,
   "id": "41d707f2-b628-4966-9815-6fe0329bf015",
   "metadata": {},
   "outputs": [],
   "source": []
  },
  {
   "cell_type": "code",
   "execution_count": null,
   "id": "0f6286d4-f077-47b5-a05e-e3bfffefb101",
   "metadata": {},
   "outputs": [],
   "source": [
    "Q14. Compile the model with the specified loss function, optimizer, and metrics."
   ]
  },
  {
   "cell_type": "code",
   "execution_count": 20,
   "id": "2dd642f2-a8c4-4ff6-9aed-6e501b37bcfa",
   "metadata": {},
   "outputs": [],
   "source": [
    "model.compile(loss=loss_function,\n",
    "              optimizer=optimizer,\n",
    "              metrics=metrics)"
   ]
  },
  {
   "cell_type": "code",
   "execution_count": null,
   "id": "dc05c0b5-fdeb-4254-a649-a5d846c22e40",
   "metadata": {},
   "outputs": [],
   "source": []
  },
  {
   "cell_type": "code",
   "execution_count": null,
   "id": "ce1cefe9-8167-4ac8-adac-c55e278f7948",
   "metadata": {},
   "outputs": [],
   "source": [
    "Q15. Fit the model to the data, incorporating the TensorBoard, Early Stopping, and ModelCheckpoint callbacks."
   ]
  },
  {
   "cell_type": "code",
   "execution_count": 21,
   "id": "15c8a762-4764-489a-990e-fe5e01443cb4",
   "metadata": {},
   "outputs": [
    {
     "name": "stdout",
     "output_type": "stream",
     "text": [
      "Epoch 1/20\n",
      "30/30 [==============================] - 1s 14ms/step - loss: -3.3377 - accuracy: 0.0000e+00 - val_loss: -8.1938 - val_accuracy: 0.0000e+00\n",
      "Epoch 2/20\n",
      "30/30 [==============================] - 0s 5ms/step - loss: -15.8326 - accuracy: 0.0000e+00 - val_loss: -24.9588 - val_accuracy: 0.0000e+00\n",
      "Epoch 3/20\n",
      " 1/30 [>.............................] - ETA: 0s - loss: -25.1609 - accuracy: 0.0000e+00"
     ]
    },
    {
     "name": "stderr",
     "output_type": "stream",
     "text": [
      "/opt/conda/lib/python3.10/site-packages/keras/src/engine/training.py:3000: UserWarning: You are saving your model as an HDF5 file via `model.save()`. This file format is considered legacy. We recommend using instead the native Keras format, e.g. `model.save('my_model.keras')`.\n",
      "  saving_api.save_model(\n"
     ]
    },
    {
     "name": "stdout",
     "output_type": "stream",
     "text": [
      "30/30 [==============================] - 0s 5ms/step - loss: -42.0646 - accuracy: 0.0000e+00 - val_loss: -60.1166 - val_accuracy: 0.0000e+00\n",
      "Epoch 4/20\n",
      "30/30 [==============================] - 0s 5ms/step - loss: -94.5307 - accuracy: 0.0000e+00 - val_loss: -126.4172 - val_accuracy: 0.0000e+00\n",
      "Epoch 5/20\n",
      "30/30 [==============================] - 0s 4ms/step - loss: -188.1089 - accuracy: 0.0000e+00 - val_loss: -237.8910 - val_accuracy: 0.0000e+00\n",
      "Epoch 6/20\n",
      "30/30 [==============================] - 0s 5ms/step - loss: -340.0299 - accuracy: 0.0000e+00 - val_loss: -410.9395 - val_accuracy: 0.0000e+00\n",
      "Epoch 7/20\n",
      "30/30 [==============================] - 0s 4ms/step - loss: -568.8198 - accuracy: 0.0000e+00 - val_loss: -661.7159 - val_accuracy: 0.0000e+00\n",
      "Epoch 8/20\n",
      "30/30 [==============================] - 0s 5ms/step - loss: -889.9286 - accuracy: 0.0000e+00 - val_loss: -1004.6999 - val_accuracy: 0.0000e+00\n",
      "Epoch 9/20\n",
      "30/30 [==============================] - 0s 5ms/step - loss: -1319.6752 - accuracy: 0.0000e+00 - val_loss: -1455.9192 - val_accuracy: 0.0000e+00\n",
      "Epoch 10/20\n",
      "30/30 [==============================] - 0s 4ms/step - loss: -1878.5536 - accuracy: 0.0000e+00 - val_loss: -2026.8606 - val_accuracy: 0.0000e+00\n",
      "Epoch 11/20\n",
      "30/30 [==============================] - 0s 4ms/step - loss: -2575.7737 - accuracy: 0.0000e+00 - val_loss: -2737.3203 - val_accuracy: 0.0000e+00\n",
      "Epoch 12/20\n",
      "30/30 [==============================] - 0s 4ms/step - loss: -3435.5608 - accuracy: 0.0000e+00 - val_loss: -3592.7083 - val_accuracy: 0.0000e+00\n",
      "Epoch 13/20\n",
      "30/30 [==============================] - 0s 4ms/step - loss: -4461.2236 - accuracy: 0.0000e+00 - val_loss: -4618.4482 - val_accuracy: 0.0000e+00\n",
      "Epoch 14/20\n",
      "30/30 [==============================] - 0s 4ms/step - loss: -5682.2856 - accuracy: 0.0000e+00 - val_loss: -5807.7861 - val_accuracy: 0.0000e+00\n",
      "Epoch 15/20\n",
      "30/30 [==============================] - 0s 4ms/step - loss: -7100.3916 - accuracy: 0.0000e+00 - val_loss: -7189.5415 - val_accuracy: 0.0000e+00\n",
      "Epoch 16/20\n",
      "30/30 [==============================] - 0s 5ms/step - loss: -8738.5322 - accuracy: 0.0000e+00 - val_loss: -8769.3613 - val_accuracy: 0.0000e+00\n",
      "Epoch 17/20\n",
      "30/30 [==============================] - 0s 5ms/step - loss: -10600.0898 - accuracy: 0.0000e+00 - val_loss: -10572.3535 - val_accuracy: 0.0000e+00\n",
      "Epoch 18/20\n",
      "30/30 [==============================] - 0s 4ms/step - loss: -12712.3574 - accuracy: 0.0000e+00 - val_loss: -12585.2080 - val_accuracy: 0.0000e+00\n",
      "Epoch 19/20\n",
      "30/30 [==============================] - 0s 4ms/step - loss: -15070.6338 - accuracy: 0.0000e+00 - val_loss: -14833.0889 - val_accuracy: 0.0000e+00\n",
      "Epoch 20/20\n",
      "30/30 [==============================] - 0s 4ms/step - loss: -17687.0234 - accuracy: 0.0000e+00 - val_loss: -17344.3066 - val_accuracy: 0.0000e+00\n"
     ]
    }
   ],
   "source": [
    "history = model.fit(X_train, y_train,\n",
    "                    epochs=20,\n",
    "                    validation_data=(X_val, y_val),\n",
    "                    callbacks=[tensorboard_callback,\n",
    "                               early_stopping_callback,\n",
    "                               model_checkpoint_callback])"
   ]
  },
  {
   "cell_type": "code",
   "execution_count": null,
   "id": "54221c69-4eae-46ac-b0fe-326c4e5ae63b",
   "metadata": {},
   "outputs": [],
   "source": []
  },
  {
   "cell_type": "code",
   "execution_count": null,
   "id": "377c2a44-6d15-4b38-a3a0-8bbfc8bb4ba2",
   "metadata": {},
   "outputs": [],
   "source": [
    "Q16. Get the model's parameters."
   ]
  },
  {
   "cell_type": "code",
   "execution_count": 22,
   "id": "9f337df4-427a-423a-89fd-ee45e6771136",
   "metadata": {},
   "outputs": [
    {
     "name": "stdout",
     "output_type": "stream",
     "text": [
      "[array([[-1.0123082 ,  1.0504613 , -1.2601558 , -1.0393943 ,  1.299079  ,\n",
      "        -0.7976692 , -1.191885  , -0.9840379 ,  1.0967469 , -0.9650766 ,\n",
      "         1.0590404 , -0.9755637 , -0.5677145 , -0.76890486, -1.0412264 ,\n",
      "        -1.2878836 , -0.57685155, -1.0626775 ,  0.9077743 ,  1.0562083 ,\n",
      "         1.2019049 ,  0.8137846 ,  1.1267315 ,  1.0591686 , -1.1029687 ,\n",
      "        -0.9359939 ,  0.9050794 ,  1.2688477 , -1.1596591 ,  1.235435  ,\n",
      "        -1.0699512 ,  0.89496374,  0.8437621 ,  0.976024  ,  0.78564614,\n",
      "        -0.53097296, -1.3439248 , -1.1796955 , -1.0780448 ,  0.77428883,\n",
      "        -1.3049879 ,  1.2413317 , -1.3107013 , -0.6677517 ,  1.0075572 ,\n",
      "        -0.717974  ,  0.98750484,  1.2013203 ,  0.7988806 , -1.2747407 ,\n",
      "        -1.2977543 , -0.82015055, -1.2010955 , -0.8468222 ,  0.96584886,\n",
      "         0.9341655 ,  0.72402877, -1.1671417 ,  1.2309413 , -0.42907187,\n",
      "         1.2730591 ,  0.4520532 ,  0.5613035 ,  1.2726212 ],\n",
      "       [ 0.9625068 , -0.9409816 ,  1.0576832 ,  0.8125322 , -1.251409  ,\n",
      "         1.1222291 , -0.03030281, -1.0489211 , -0.9098661 ,  0.6014174 ,\n",
      "        -1.0106485 , -0.41542307, -0.9516643 , -0.4393966 ,  0.9414044 ,\n",
      "        -0.42255938,  0.25932688,  0.90323776, -1.131427  , -1.3005748 ,\n",
      "        -1.0584574 , -1.3001144 , -0.67516565, -1.1298926 , -0.29348996,\n",
      "         0.78977054, -1.3133794 , -0.56951135, -0.8525114 , -1.1422364 ,\n",
      "         1.0704292 , -1.135646  , -0.78099597, -0.9983774 , -1.2686657 ,\n",
      "        -1.2131262 ,  0.9735683 ,  0.65463674,  1.1587648 , -1.2089957 ,\n",
      "         0.4716242 , -1.0044265 , -0.25076333,  0.31637484, -1.0591596 ,\n",
      "         0.9439287 , -1.1947038 , -0.7433969 , -1.1650991 ,  0.08832518,\n",
      "         0.13409209,  0.94345266, -0.92813003,  0.00634255, -1.0017624 ,\n",
      "        -1.2467816 , -0.8182972 , -0.8644169 , -1.0310487 , -1.0944351 ,\n",
      "        -1.2094871 , -0.7370399 , -0.42669284, -0.71112186],\n",
      "       [-1.1685569 ,  1.2471336 , -1.2451477 , -1.0961316 ,  1.2337102 ,\n",
      "        -1.3301917 , -0.75665593,  0.11568025,  1.0210819 , -0.9499745 ,\n",
      "         0.8327527 , -1.1135932 , -0.56232977, -1.1174437 , -1.0557466 ,\n",
      "        -0.471875  , -0.86761755, -1.1209522 ,  0.9681495 ,  0.97430307,\n",
      "         1.0521399 ,  1.2952206 ,  0.7213349 ,  0.8037819 , -1.063062  ,\n",
      "        -1.1935227 ,  1.0233126 ,  0.89428675, -0.35552344,  1.2966318 ,\n",
      "        -1.1703844 ,  1.0969343 ,  0.69396853,  1.2745856 ,  1.1768277 ,\n",
      "         0.7050997 , -1.3384745 , -1.1414381 , -0.79506284,  0.84030277,\n",
      "        -0.87967527,  1.2053875 , -0.9554887 , -0.9864372 ,  1.0599296 ,\n",
      "        -1.0923815 ,  1.129916  ,  1.145404  ,  1.0997744 , -1.0908911 ,\n",
      "        -1.0241315 , -1.0007135 , -0.9547692 , -0.6136067 ,  1.004773  ,\n",
      "         1.1998409 ,  1.0843619 , -0.9451215 ,  1.3247002 ,  0.8257169 ,\n",
      "         0.7597892 ,  1.1505024 ,  0.6944462 ,  1.0614058 ],\n",
      "       [-0.8703446 , -0.5621409 , -0.4373881 , -1.1394539 ,  0.52918214,\n",
      "         0.3084992 , -1.1502569 , -0.45163628,  0.45550346, -1.1966453 ,\n",
      "         0.85582   , -0.76546866, -1.0505068 , -1.216464  , -0.5221714 ,\n",
      "        -1.0161356 , -0.3833371 , -0.41900644,  0.5768211 , -0.7379889 ,\n",
      "         0.25720507,  0.56172705,  0.34416893, -0.7378758 , -1.2252637 ,\n",
      "        -1.1647775 ,  0.9166926 ,  0.84415907,  0.54937804,  0.44490615,\n",
      "        -0.77798474,  0.3895946 ,  0.24627502,  0.75838864, -0.33366463,\n",
      "        -0.822124  , -0.55583096, -1.1515003 ,  0.3156015 ,  0.66354966,\n",
      "        -0.2586358 ,  0.62667954, -1.1163138 ,  0.2918836 ,  0.16604055,\n",
      "         0.37936834,  0.35870582,  0.47643206,  0.32196066, -0.13477749,\n",
      "        -0.20173202,  0.25631693, -1.0327855 , -1.094419  , -0.39086086,\n",
      "         0.02708373,  0.8777171 , -1.2877288 ,  0.73111385,  0.40898058,\n",
      "        -0.09919553,  0.3624485 , -0.8968043 ,  0.77681595],\n",
      "       [-1.212777  ,  0.68814635, -1.107967  , -0.9373988 , -0.37465113,\n",
      "        -0.786499  , -1.3131887 , -1.0957569 ,  0.24857956, -0.54454607,\n",
      "         0.6597489 , -1.1818328 ,  0.06376039, -1.0562929 , -1.2291639 ,\n",
      "         0.00270603, -0.17821573, -1.0407181 ,  0.6847195 ,  0.47156325,\n",
      "         0.45893404,  0.4255761 ,  0.87437755, -1.0401763 , -0.63065135,\n",
      "        -1.2206782 ,  0.6446346 ,  0.7704289 , -1.1085914 ,  0.39324528,\n",
      "        -0.71121395,  0.6581225 ,  0.7643958 ,  0.6408531 ,  0.4128342 ,\n",
      "         0.1681633 , -1.1875625 , -1.0144149 , -0.1636331 , -0.8786744 ,\n",
      "        -0.48355183,  0.7820018 , -1.2560853 , -1.2769438 ,  0.66541696,\n",
      "        -0.40240678,  0.33582684, -0.6525145 ,  0.6707695 , -1.0695188 ,\n",
      "        -1.1812737 , -0.9314596 , -0.93583065, -1.3286858 ,  0.6088703 ,\n",
      "         0.3749318 , -0.96257484, -0.35233334,  0.7527005 , -0.05149831,\n",
      "        -0.38964456, -1.2549528 , -1.312615  ,  0.67822665],\n",
      "       [ 1.0699414 , -0.96323454, -0.05564455, -0.99508333,  0.15444991,\n",
      "         0.4638853 , -0.902427  , -0.4753446 , -1.1589686 , -1.1066035 ,\n",
      "         0.3059858 , -0.10763627, -0.5609419 ,  0.994698  , -1.0178086 ,\n",
      "         0.44998518, -1.1277937 ,  0.82480067, -1.0211188 , -1.1613855 ,\n",
      "        -1.2124776 , -1.1521939 , -1.0609152 , -0.8545433 , -0.9229972 ,\n",
      "        -0.7069653 ,  0.35768527,  0.8575179 ,  0.7873115 , -0.7774145 ,\n",
      "         1.1136687 , -0.8476444 , -1.1722516 ,  0.8239869 , -0.8835283 ,\n",
      "        -1.0515406 ,  1.014734  , -0.8542743 ,  0.9622736 , -1.1677283 ,\n",
      "         1.0355332 , -0.5867742 , -0.4255056 , -0.77725226,  0.6906793 ,\n",
      "         1.0615499 ,  0.45249125, -0.726747  , -0.89356214,  0.34960112,\n",
      "         0.41198722,  1.099015  ,  0.05336202, -1.1970155 , -1.2309769 ,\n",
      "         0.5031    ,  0.50881267,  0.73690253, -0.09033327, -1.1275764 ,\n",
      "        -1.0405427 , -0.22604623, -0.54215944, -0.4536444 ],\n",
      "       [ 0.6012272 , -0.26042196, -0.42904034, -1.0692284 ,  0.01496813,\n",
      "         0.88449115, -1.20227   , -0.594126  , -1.0333178 , -0.89977866,\n",
      "        -0.16305439, -1.202215  , -1.2296044 ,  0.7934981 , -0.9629245 ,\n",
      "         0.31703094, -1.3370402 ,  0.65903926, -1.1337997 , -1.2290528 ,\n",
      "        -1.0133002 , -1.1655039 ,  0.29003754, -1.1081039 , -1.2860773 ,\n",
      "        -0.8518235 , -0.01191898,  0.8648112 ,  0.6112434 , -1.2400812 ,\n",
      "         0.9266906 , -0.26715377, -1.0587764 ,  0.7744185 , -1.2475013 ,\n",
      "        -1.167607  ,  0.87250805, -1.0330914 ,  0.52197766, -1.1564461 ,\n",
      "         0.31877378,  0.40174413, -0.7534027 , -1.2528954 ,  0.7846446 ,\n",
      "         1.0009475 ,  0.29276073, -1.197021  , -0.72377217, -1.0314735 ,\n",
      "        -0.99518615,  0.81942785, -1.1072162 , -1.2518132 , -0.837545  ,\n",
      "         0.49344298,  0.7238408 , -0.09570973, -0.60496706, -1.0592818 ,\n",
      "        -1.2184792 , -1.0396848 , -1.2055422 , -0.46381006],\n",
      "       [-1.138219  ,  0.9809543 , -0.98729414, -0.576487  ,  0.6160596 ,\n",
      "        -0.10838221, -1.2518983 , -0.6661159 ,  0.7171182 , -1.1742331 ,\n",
      "         0.69929594, -1.2615237 , -1.1770613 , -1.0927426 , -1.1171591 ,\n",
      "        -1.3108913 , -1.1763247 , -1.1387633 ,  0.848085  , -0.41266537,\n",
      "         0.85888743,  0.6859903 ,  0.9442203 ,  0.22986808, -1.1771324 ,\n",
      "        -1.0322304 ,  0.8808489 ,  1.1042347 , -1.1443325 ,  1.0939409 ,\n",
      "        -1.0997568 ,  0.99196815,  1.1954899 ,  1.2349665 , -0.16256243,\n",
      "        -1.1062711 , -0.6294008 , -1.1933969 , -0.9917164 ,  0.57892054,\n",
      "        -1.1521829 ,  0.7615288 , -0.91494066, -0.73312134,  1.0059066 ,\n",
      "        -0.8006045 ,  0.8696338 ,  0.67422616,  0.97551495, -1.1985552 ,\n",
      "        -1.1141522 , -0.99591273, -0.8911671 , -1.1713064 ,  1.215587  ,\n",
      "         0.76330364,  0.55891067, -1.2944902 ,  0.79154354, -0.48756006,\n",
      "         1.1256202 , -0.6571525 , -0.9598233 ,  1.2898097 ],\n",
      "       [ 1.0135944 , -1.1915016 ,  0.75550747,  1.2254432 , -1.088649  ,\n",
      "         0.8459523 ,  0.8907814 ,  1.141146  , -1.3158442 ,  0.5355769 ,\n",
      "        -0.7257842 ,  1.2686476 ,  0.71038616,  1.1086804 ,  0.73858714,\n",
      "         0.36154616,  0.47659236,  0.80709946, -1.1599239 , -0.91557765,\n",
      "        -1.0620202 , -0.8597474 , -1.2868634 , -0.6999718 ,  1.0732148 ,\n",
      "         1.3021376 , -1.1231219 , -1.015805  ,  0.91873085, -0.7873594 ,\n",
      "         1.1410645 , -1.144226  , -1.2444791 , -1.1604393 , -1.18591   ,\n",
      "         0.17338711,  0.95241684,  0.95525724,  1.1780334 , -0.15029949,\n",
      "         1.2001705 , -1.1633832 ,  1.0306507 ,  0.9997743 , -1.223122  ,\n",
      "         1.0423918 , -1.3162289 , -1.14683   , -1.2673676 ,  1.2163099 ,\n",
      "         1.1516451 ,  1.1478605 ,  1.2725803 ,  1.0202494 , -1.0401573 ,\n",
      "        -1.207449  , -0.33371624,  0.9186408 , -0.9087464 ,  0.90625846,\n",
      "        -1.2785616 ,  0.63914853,  0.44878024, -1.1340681 ],\n",
      "       [-0.78806716,  0.65357375, -1.2167938 , -1.28336   ,  0.89829725,\n",
      "        -1.1486292 , -1.1726062 ,  0.616696  ,  0.7303215 , -1.0182891 ,\n",
      "         1.0096924 , -0.4133516 ,  0.76642776, -1.1112213 , -1.2222203 ,\n",
      "         0.4440849 ,  0.29292595, -0.50582546,  1.1080202 ,  1.0847226 ,\n",
      "         1.1138159 ,  0.9546196 ,  0.03189782,  1.1222092 ,  0.17268819,\n",
      "        -0.72011703,  1.0239334 ,  0.2844378 , -0.58715546,  0.9214486 ,\n",
      "        -0.2485029 ,  0.86144716,  1.0479542 ,  0.5782956 ,  0.84086394,\n",
      "         0.9770522 , -0.9872508 , -1.0454923 , -0.9366972 ,  0.9263321 ,\n",
      "        -0.40696278,  0.980619  , -0.993827  ,  0.5554865 ,  1.0961087 ,\n",
      "         0.14820315,  0.83097917,  0.75685734,  0.9673164 , -1.0927366 ,\n",
      "        -1.0532451 , -0.29905993, -0.23912352, -1.1770065 ,  0.94058573,\n",
      "         0.45347175,  0.9261905 ,  0.26041546,  0.94818324,  0.6172811 ,\n",
      "         0.6401072 ,  0.92822117, -0.12442331,  1.0405734 ],\n",
      "       [-0.20779662, -0.70124507, -0.45139578, -0.5777723 ,  0.2121976 ,\n",
      "        -0.9871414 ,  0.40768343,  1.0678935 , -0.06659033,  0.18528734,\n",
      "         0.8494317 ,  0.7630708 ,  0.78111637,  0.88754267,  0.8818679 ,\n",
      "         1.0009794 ,  0.8736678 ,  0.38824388,  0.6810251 ,  1.0228136 ,\n",
      "         0.6282371 ,  0.7992907 , -0.96751297,  1.0017498 ,  0.60731596,\n",
      "         0.14697185,  0.6191946 , -1.1583827 ,  1.1059408 ,  0.8877573 ,\n",
      "         0.04872289,  0.8570184 , -0.73457086, -0.6482572 ,  0.8232455 ,\n",
      "         0.9417277 , -0.5418149 ,  0.67661566,  0.01289752,  0.96696216,\n",
      "        -0.08350066,  0.59522665,  0.94572896,  1.10206   , -0.27443326,\n",
      "        -0.07894044,  0.1960053 ,  1.1154773 ,  0.79997706,  0.85512686,\n",
      "         0.84320855,  0.1008111 ,  1.0950617 ,  0.47928897, -0.61023813,\n",
      "        -0.09200414,  1.0812973 ,  0.83772033,  0.79683805,  1.0023082 ,\n",
      "         0.29167888,  1.2799821 ,  1.1939965 , -0.7245075 ]],\n",
      "      dtype=float32), array([1.1056154 , 1.0558447 , 1.0948807 , 1.0947669 , 1.1065556 ,\n",
      "       1.0957862 , 1.1012652 , 1.0926082 , 1.071165  , 1.1106548 ,\n",
      "       0.94114244, 1.0943191 , 1.1035299 , 1.0999533 , 1.1101112 ,\n",
      "       1.101617  , 1.1269078 , 0.9935442 , 1.0121536 , 1.0713913 ,\n",
      "       1.079866  , 1.0819453 , 1.0773854 , 1.0691212 , 1.1067675 ,\n",
      "       1.1098608 , 1.1171263 , 1.0964471 , 1.1051813 , 1.1056323 ,\n",
      "       1.0685812 , 1.069572  , 1.0635513 , 1.103073  , 1.0758467 ,\n",
      "       1.0713149 , 1.1409895 , 1.03752   , 1.0710518 , 0.99678785,\n",
      "       1.0802661 , 1.1008242 , 1.0901649 , 1.069537  , 1.099362  ,\n",
      "       1.0925864 , 1.080691  , 1.042111  , 1.0803677 , 1.0882256 ,\n",
      "       1.0748892 , 1.0290883 , 1.1074805 , 1.1181794 , 1.0798068 ,\n",
      "       1.0990912 , 1.0278176 , 1.1109216 , 1.1047218 , 1.0575175 ,\n",
      "       1.0940833 , 1.1106209 , 1.0810674 , 1.1015837 ], dtype=float32), array([[ 0.95476335,  1.2792184 , -0.15906915, ...,  0.9934843 ,\n",
      "         0.98964834,  0.17733988],\n",
      "       [ 0.84685546,  1.030036  , -0.1506252 , ...,  0.81638694,\n",
      "         0.9612    ,  0.0408167 ],\n",
      "       [ 0.88470465,  1.1649177 , -0.02586405, ...,  0.79753655,\n",
      "         1.027238  , -0.16095182],\n",
      "       ...,\n",
      "       [ 1.0954202 ,  1.0173683 , -0.0188549 , ...,  1.030165  ,\n",
      "         1.2125936 ,  0.06800379],\n",
      "       [ 1.0943925 ,  1.189335  , -0.0881085 , ...,  0.95830077,\n",
      "         1.295832  , -0.05347653],\n",
      "       [ 0.8363227 ,  0.8773283 , -0.10858059, ...,  0.9070748 ,\n",
      "         0.99522185, -0.22746769]], dtype=float32), array([ 0.8693187 ,  0.8279778 , -0.03780776, -0.03403175,  0.84405756,\n",
      "        0.9281101 ,  0.9144082 ,  0.8583828 , -0.03296029,  0.7976812 ,\n",
      "       -0.05070897,  0.8611867 , -0.03521175,  0.8620648 ,  0.9049952 ,\n",
      "       -0.03032083,  0.795382  ,  0.8285021 ,  0.89691305, -0.01980781,\n",
      "       -0.04233975, -0.03904628, -0.0276305 , -0.02994636,  0.85438746,\n",
      "       -0.02775813,  0.9027014 , -0.03795032,  0.9268308 ,  0.7811233 ,\n",
      "        0.9277341 , -0.01810253], dtype=float32), array([[ 1.3293126 ],\n",
      "       [ 1.4620985 ],\n",
      "       [-0.16610682],\n",
      "       [-0.30579847],\n",
      "       [ 1.409401  ],\n",
      "       [ 1.2674172 ],\n",
      "       [ 1.2440091 ],\n",
      "       [ 1.326383  ],\n",
      "       [-0.24284889],\n",
      "       [ 1.5048256 ],\n",
      "       [-0.10079522],\n",
      "       [ 1.2944827 ],\n",
      "       [-0.22329144],\n",
      "       [ 1.3051808 ],\n",
      "       [ 1.3777088 ],\n",
      "       [-0.29043436],\n",
      "       [ 1.566262  ],\n",
      "       [ 1.5921022 ],\n",
      "       [ 1.2919217 ],\n",
      "       [-0.09046898],\n",
      "       [-0.29307222],\n",
      "       [-0.13562386],\n",
      "       [-0.06717745],\n",
      "       [-0.18534362],\n",
      "       [ 1.3114959 ],\n",
      "       [-0.13169223],\n",
      "       [ 1.249052  ],\n",
      "       [-0.36171737],\n",
      "       [ 1.1275191 ],\n",
      "       [ 1.5350004 ],\n",
      "       [ 1.226427  ],\n",
      "       [-0.3482002 ]], dtype=float32), array([0.59337014], dtype=float32)]\n"
     ]
    }
   ],
   "source": [
    "print(model.get_weights())"
   ]
  },
  {
   "cell_type": "code",
   "execution_count": null,
   "id": "49706f3e-f940-4b30-9600-f8f5a4a88d47",
   "metadata": {},
   "outputs": [],
   "source": []
  },
  {
   "cell_type": "code",
   "execution_count": null,
   "id": "8d753bcc-eea0-4b55-97f4-58c0e33486f7",
   "metadata": {},
   "outputs": [],
   "source": [
    "Q17. Store the model's training history as a Pandas DataFrame."
   ]
  },
  {
   "cell_type": "code",
   "execution_count": 23,
   "id": "1f9250d5-f87b-491f-a919-24b618b29a46",
   "metadata": {},
   "outputs": [],
   "source": [
    "history_df = pd.DataFrame(history.history)"
   ]
  },
  {
   "cell_type": "code",
   "execution_count": null,
   "id": "8823d6ba-c689-4a39-937b-12d77a73d0e1",
   "metadata": {},
   "outputs": [],
   "source": []
  },
  {
   "cell_type": "code",
   "execution_count": null,
   "id": "911e4347-3672-42a2-948b-7578af6a68a5",
   "metadata": {},
   "outputs": [],
   "source": [
    "Q18. Plot the model's training history."
   ]
  },
  {
   "cell_type": "code",
   "execution_count": 24,
   "id": "c72767f5-69e1-4e28-b563-cbbc1e3f555a",
   "metadata": {},
   "outputs": [
    {
     "data": {
      "text/plain": [
       "<AxesSubplot: >"
      ]
     },
     "execution_count": 24,
     "metadata": {},
     "output_type": "execute_result"
    },
    {
     "data": {
      "image/png": "[encoded data removed]",
      "text/plain": [
       "<Figure size 640x480 with 1 Axes>"
      ]
     },
     "metadata": {},
     "output_type": "display_data"
    }
   ],
   "source": [
    "history_df.plot()"
   ]
  },
  {
   "cell_type": "code",
   "execution_count": null,
   "id": "92a35b6e-d4ad-4c21-b768-d7350ba82e6b",
   "metadata": {},
   "outputs": [],
   "source": []
  },
  {
   "cell_type": "code",
   "execution_count": null,
   "id": "5bbe3e5d-ea93-4a1a-956b-59f4d498e461",
   "metadata": {},
   "outputs": [],
   "source": [
    "Q19. Evaluate the model's performance using the test data."
   ]
  },
  {
   "cell_type": "code",
   "execution_count": 25,
   "id": "8454e994-7396-4346-aaba-21325ef14ad0",
   "metadata": {},
   "outputs": [
    {
     "name": "stdout",
     "output_type": "stream",
     "text": [
      "10/10 [==============================] - 0s 1ms/step - loss: -19530.8652 - accuracy: 0.0000e+00\n"
     ]
    },
    {
     "data": {
      "text/plain": [
       "[-19530.865234375, 0.0]"
      ]
     },
     "execution_count": 25,
     "metadata": {},
     "output_type": "execute_result"
    }
   ],
   "source": [
    "model.evaluate(X_test, y_test)"
   ]
  }
 ],
 "metadata": {
  "kernelspec": {
   "display_name": "Python 3 (ipykernel)",
   "language": "python",
   "name": "python3"
  },
  "language_info": {
   "codemirror_mode": {
    "name": "ipython",
    "version": 3
   },
   "file_extension": ".py",
   "mimetype": "text/x-python",
   "name": "python",
   "nbconvert_exporter": "python",
   "pygments_lexer": "ipython3",
   "version": "3.10.8"
  }
 },
 "nbformat": 4,
 "nbformat_minor": 5
}
